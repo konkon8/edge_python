{
 "cells": [
  {
   "cell_type": "markdown",
   "id": "9504ba8b-53e8-4129-b054-8bce428a9692",
   "metadata": {},
   "source": [
    "Description: Detect edge & evaluate FOM of proposed method with various noise level\n",
    "\n",
    "Python version: 3.9"
   ]
  },
  {
   "cell_type": "code",
   "execution_count": 1,
   "id": "7b4edc45-445d-4835-a253-db79aced4eeb",
   "metadata": {},
   "outputs": [],
   "source": [
    "# %% Import libraries\n",
    "import numpy as np\n",
    "import matplotlib.pyplot as plt\n",
    "import skimage.io as io  # v.0.18.1\n",
    "from skimage.filters import median\n",
    "from skimage.morphology import disk\n",
    "from pathlib import Path\n",
    "from os import sep"
   ]
  },
  {
   "cell_type": "code",
   "execution_count": 1,
   "id": "bc517464-0433-452f-85c2-726a38f1c4c8",
   "metadata": {},
   "outputs": [],
   "source": [
    "!apt-get install -y libgl1-mesa-dev\n",
    "from cv2 import morphologyEx, MORPH_OPEN "
   ]
  },
  {
   "cell_type": "code",
   "execution_count": 1,
   "id": "0b5be0bb-8fa8-4420-b154-c5c77562ea4d",
   "metadata": {},
   "outputs": [],
   "source": [
    "from cpseg_functions import \\\n",
    "    ak_get_filename, add_noise, ak_rotate_edge_overlay, ak_post_process, \\\n",
    "    ak_edge_eval"
   ]
  },
  {
   "cell_type": "code",
   "execution_count": 2,
   "id": "f67d8e2f-abb2-41d3-85e5-98901b4e8ee4",
   "metadata": {},
   "outputs": [],
   "source": [
    "# %% Parameters\n",
    "#imagefile_id = 0  #6                           # id of image file in the folder, i\n",
    "#noisedensity_id = 0                            # Salt & pepper noise id, k\n",
    "noisedensity = [0, 0.05, 0.1, 0.4, 0.6, 0.9]    # Salt & pepper noise level list\n",
    "se_size = 200                                   # Background subtraction\n",
    "medianValue = [5, 5]#[30, 30]                   # Median filter\n",
    "y_interval = 2  # 5                             # Sparse scan along y-axis, pixel\n",
    "rotation_angle = 4 #3                           # 0: 45 degree, 3: semicircle\n",
    "                                                # 1: 30 degree, 4: semicircle\n",
    "                                                # 2: 15 degree, 5: semicircle\n",
    "changepoint_algo = 1                            # 0: number known, 1: number not known\n",
    "numBorder = 4                                   # Number of change points,\n",
    "                                                # if changepoint_algo = 1, use PELT for panelized detection\n",
    "penalty_value = 250000 #100000                  # Penalty cost when numBorder = 0\n",
    "numlayer = 1                                    # 0: single <- avoid in this workflow\n",
    "                                                # 1: overlay multiple\n",
    "model = \"linear\"                                # \"rbf\", \"linear\", \"cosine\"\n",
    "postprocess = 1                                 # 0: no, 1:yes\n",
    "smallNoiseRemov = 1                             # 0:No noise removal\n",
    "                                                # 1:Connect border, then remove small noises\n",
    "                                                # 2:Remove small noisess first, then connect\n",
    "senoise = y_interval * 2                        # Structural element size of morphology opening:default:5\n",
    "neib = 25                                       # Remove small objects less than neib(pixel) default:100\n",
    "select_biggest = 0                              # 0: No selection; 1: select biggest\n",
    "nskeletonize = 1                                # 0: No skeletonization, 1: with skeletonization\n",
    "evaluation = 1                                  # 0: No evaluation, 1: With evaluation"
   ]
  },
  {
   "cell_type": "code",
   "execution_count": 3,
   "id": "2490304c-0dbf-44d9-8ede-4fe8121482dd",
   "metadata": {},
   "outputs": [
    {
     "name": "stdout",
     "output_type": "stream",
     "text": [
      "Input image file id (0-9).\n"
     ]
    },
    {
     "name": "stdin",
     "output_type": "stream",
     "text": [
      " 0\n"
     ]
    },
    {
     "name": "stdout",
     "output_type": "stream",
     "text": [
      "Image file id is: 0\n"
     ]
    }
   ],
   "source": [
    "# Select image\n",
    "print(\"Input image file id (0-9).\")\n",
    "imagefile_id = np.asarray(input(),dtype=int)\n",
    "print(\"Image file id is:\", imagefile_id)"
   ]
  },
  {
   "cell_type": "code",
   "execution_count": 11,
   "id": "d57078a1-2e44-41b1-8fb1-5f979325350f",
   "metadata": {},
   "outputs": [
    {
     "name": "stdout",
     "output_type": "stream",
     "text": [
      "Input noise level id of salt&pepper noise (0-5).\n"
     ]
    },
    {
     "name": "stdin",
     "output_type": "stream",
     "text": [
      " 4\n"
     ]
    },
    {
     "name": "stdout",
     "output_type": "stream",
     "text": [
      "Noisedensity is:  0.6\n"
     ]
    }
   ],
   "source": [
    "# Select noise level\n",
    "print(\"Input noise level id of salt&pepper noise (0-5).\")\n",
    "noisedensity_id = np.asarray(input(),dtype=int)\n",
    "print(\"Noisedensity is: \", noisedensity[noisedensity_id])"
   ]
  },
  {
   "cell_type": "code",
   "execution_count": 12,
   "id": "5698df2b-a127-4e38-8718-b52495d912a5",
   "metadata": {},
   "outputs": [
    {
     "name": "stdout",
     "output_type": "stream",
     "text": [
      "Image number is 0.\n",
      "Salt & pepper noise density id is 4.\n"
     ]
    },
    {
     "ename": "KeyboardInterrupt",
     "evalue": "",
     "output_type": "error",
     "traceback": [
      "\u001b[0;31m---------------------------------------------------------------------------\u001b[0m",
      "\u001b[0;31mKeyboardInterrupt\u001b[0m                         Traceback (most recent call last)",
      "\u001b[0;32m/var/folders/l6/gdsht3ws5cg7c8zzd3n4z1r40000gn/T/ipykernel_30194/1318627395.py\u001b[0m in \u001b[0;36m<module>\u001b[0;34m\u001b[0m\n\u001b[1;32m     27\u001b[0m \u001b[0mk\u001b[0m \u001b[0;34m=\u001b[0m \u001b[0mnoisedensity_id\u001b[0m                                         \u001b[0;31m# Noise level; for multi k values: for k in np.arange(0, nNoiseDensity - 1, 1):\u001b[0m\u001b[0;34m\u001b[0m\u001b[0;34m\u001b[0m\u001b[0m\n\u001b[1;32m     28\u001b[0m \u001b[0mprint\u001b[0m\u001b[0;34m(\u001b[0m\u001b[0;34mF'Salt & pepper noise density id is {k}.'\u001b[0m\u001b[0;34m.\u001b[0m\u001b[0mformat\u001b[0m\u001b[0;34m(\u001b[0m\u001b[0mi\u001b[0m\u001b[0;34m=\u001b[0m\u001b[0mi\u001b[0m\u001b[0;34m)\u001b[0m\u001b[0;34m)\u001b[0m\u001b[0;34m\u001b[0m\u001b[0;34m\u001b[0m\u001b[0m\n\u001b[0;32m---> 29\u001b[0;31m \u001b[0mInoise\u001b[0m \u001b[0;34m=\u001b[0m \u001b[0madd_noise\u001b[0m\u001b[0;34m(\u001b[0m\u001b[0mIori\u001b[0m\u001b[0;34m,\u001b[0m \u001b[0mnoisedensity\u001b[0m\u001b[0;34m[\u001b[0m\u001b[0mk\u001b[0m\u001b[0;34m]\u001b[0m\u001b[0;34m)\u001b[0m                   \u001b[0;31m# Add salt & pepper noise\u001b[0m\u001b[0;34m\u001b[0m\u001b[0;34m\u001b[0m\u001b[0m\n\u001b[0m\u001b[1;32m     30\u001b[0m \u001b[0;31m# Pre-processing\u001b[0m\u001b[0;34m\u001b[0m\u001b[0;34m\u001b[0m\u001b[0m\n\u001b[1;32m     31\u001b[0m \u001b[0mse_imopen\u001b[0m \u001b[0;34m=\u001b[0m \u001b[0mdisk\u001b[0m\u001b[0;34m(\u001b[0m\u001b[0mse_size\u001b[0m\u001b[0;34m)\u001b[0m                                   \u001b[0;31m# structrul element for morph open\u001b[0m\u001b[0;34m\u001b[0m\u001b[0;34m\u001b[0m\u001b[0m\n",
      "\u001b[0;32m~/Dropbox/manuscript3/workspace/changepointseg_v1/cpseg_functions.py\u001b[0m in \u001b[0;36madd_noise\u001b[0;34m(img, noise_density)\u001b[0m\n\u001b[1;32m     59\u001b[0m         \u001b[0my_coord\u001b[0m\u001b[0;34m=\u001b[0m\u001b[0mrandint\u001b[0m\u001b[0;34m(\u001b[0m\u001b[0;36m0\u001b[0m\u001b[0;34m,\u001b[0m \u001b[0mrow\u001b[0m \u001b[0;34m-\u001b[0m \u001b[0;36m1\u001b[0m\u001b[0;34m)\u001b[0m \u001b[0;31m# Pick a random y coordinate\u001b[0m\u001b[0;34m\u001b[0m\u001b[0;34m\u001b[0m\u001b[0m\n\u001b[1;32m     60\u001b[0m         \u001b[0mx_coord\u001b[0m\u001b[0;34m=\u001b[0m\u001b[0mrandint\u001b[0m\u001b[0;34m(\u001b[0m\u001b[0;36m0\u001b[0m\u001b[0;34m,\u001b[0m \u001b[0mcol\u001b[0m \u001b[0;34m-\u001b[0m \u001b[0;36m1\u001b[0m\u001b[0;34m)\u001b[0m \u001b[0;31m# Pick a random x coordinate\u001b[0m\u001b[0;34m\u001b[0m\u001b[0;34m\u001b[0m\u001b[0m\n\u001b[0;32m---> 61\u001b[0;31m         \u001b[0mnoisy\u001b[0m\u001b[0;34m[\u001b[0m\u001b[0my_coord\u001b[0m\u001b[0;34m]\u001b[0m\u001b[0;34m[\u001b[0m\u001b[0mx_coord\u001b[0m\u001b[0;34m]\u001b[0m \u001b[0;34m=\u001b[0m \u001b[0mnp\u001b[0m\u001b[0;34m.\u001b[0m\u001b[0mmax\u001b[0m\u001b[0;34m(\u001b[0m\u001b[0mnoisy\u001b[0m\u001b[0;34m)\u001b[0m \u001b[0;31m# Color that pixel to max\u001b[0m\u001b[0;34m\u001b[0m\u001b[0;34m\u001b[0m\u001b[0m\n\u001b[0m\u001b[1;32m     62\u001b[0m \u001b[0;34m\u001b[0m\u001b[0m\n\u001b[1;32m     63\u001b[0m     \u001b[0;31m# Randomly pick some pixels in the image for coloring them black\u001b[0m\u001b[0;34m\u001b[0m\u001b[0;34m\u001b[0m\u001b[0m\n",
      "\u001b[0;32m<__array_function__ internals>\u001b[0m in \u001b[0;36mamax\u001b[0;34m(*args, **kwargs)\u001b[0m\n",
      "\u001b[0;32m~/.pyenv/versions/anaconda3-2020.11/envs/modeling/lib/python3.9/site-packages/numpy/core/fromnumeric.py\u001b[0m in \u001b[0;36mamax\u001b[0;34m(a, axis, out, keepdims, initial, where)\u001b[0m\n\u001b[1;32m   2752\u001b[0m     \u001b[0;36m5\u001b[0m\u001b[0;34m\u001b[0m\u001b[0;34m\u001b[0m\u001b[0m\n\u001b[1;32m   2753\u001b[0m     \"\"\"\n\u001b[0;32m-> 2754\u001b[0;31m     return _wrapreduction(a, np.maximum, 'max', axis, None, out,\n\u001b[0m\u001b[1;32m   2755\u001b[0m                           keepdims=keepdims, initial=initial, where=where)\n\u001b[1;32m   2756\u001b[0m \u001b[0;34m\u001b[0m\u001b[0m\n",
      "\u001b[0;32m~/.pyenv/versions/anaconda3-2020.11/envs/modeling/lib/python3.9/site-packages/numpy/core/fromnumeric.py\u001b[0m in \u001b[0;36m_wrapreduction\u001b[0;34m(obj, ufunc, method, axis, dtype, out, **kwargs)\u001b[0m\n\u001b[1;32m     84\u001b[0m                 \u001b[0;32mreturn\u001b[0m \u001b[0mreduction\u001b[0m\u001b[0;34m(\u001b[0m\u001b[0maxis\u001b[0m\u001b[0;34m=\u001b[0m\u001b[0maxis\u001b[0m\u001b[0;34m,\u001b[0m \u001b[0mout\u001b[0m\u001b[0;34m=\u001b[0m\u001b[0mout\u001b[0m\u001b[0;34m,\u001b[0m \u001b[0;34m**\u001b[0m\u001b[0mpasskwargs\u001b[0m\u001b[0;34m)\u001b[0m\u001b[0;34m\u001b[0m\u001b[0;34m\u001b[0m\u001b[0m\n\u001b[1;32m     85\u001b[0m \u001b[0;34m\u001b[0m\u001b[0m\n\u001b[0;32m---> 86\u001b[0;31m     \u001b[0;32mreturn\u001b[0m \u001b[0mufunc\u001b[0m\u001b[0;34m.\u001b[0m\u001b[0mreduce\u001b[0m\u001b[0;34m(\u001b[0m\u001b[0mobj\u001b[0m\u001b[0;34m,\u001b[0m \u001b[0maxis\u001b[0m\u001b[0;34m,\u001b[0m \u001b[0mdtype\u001b[0m\u001b[0;34m,\u001b[0m \u001b[0mout\u001b[0m\u001b[0;34m,\u001b[0m \u001b[0;34m**\u001b[0m\u001b[0mpasskwargs\u001b[0m\u001b[0;34m)\u001b[0m\u001b[0;34m\u001b[0m\u001b[0;34m\u001b[0m\u001b[0m\n\u001b[0m\u001b[1;32m     87\u001b[0m \u001b[0;34m\u001b[0m\u001b[0m\n\u001b[1;32m     88\u001b[0m \u001b[0;34m\u001b[0m\u001b[0m\n",
      "\u001b[0;31mKeyboardInterrupt\u001b[0m: "
     ]
    }
   ],
   "source": [
    "# %% Processing\n",
    "# Specify directories\n",
    "imDir = f\"examples{sep}images{sep}\"\n",
    "gtDir = f\"examples{sep}groundtruth{sep}\"\n",
    "# Get image file name\n",
    "imFilename = ak_get_filename(imDir)\n",
    "# Set result containers\n",
    "nImFile = np.size(imFilename)\n",
    "nNoiseDensity = np.size(noisedensity)\n",
    "fom_array = np.zeros((nImFile, nNoiseDensity))\n",
    "mse_array = np.zeros((nImFile, nNoiseDensity))\n",
    "# Detect borders using the proposed method & calculate FOM & MSE\n",
    "I0 = io.imread(imFilename[0])\n",
    "I0 = np.array(I0)\n",
    "BW_final = np.zeros(I0.shape)  # empty border object\n",
    "i = imagefile_id  # image file id, for all files in the folder # for i in np.arange(0,nImFile - 1, 1):\n",
    "print(F'Image number is {i}.'.format(i=i))\n",
    "Iori = io.imread(imFilename[i])  # Load image\n",
    "Iori = np.array(Iori)\n",
    "\n",
    "gtPath = gtDir + Path(imFilename[i]).stem + '_gt.tif'   # Path to ground truth\n",
    "BWgt = io.imread(gtPath)                                # Load ground truth\n",
    "BWgt = np.array(BWgt)\n",
    "\n",
    "#%% Edge detection\n",
    "# Add salt & pepper noise\n",
    "k = noisedensity_id                                         # Noise level; for multi k values: for k in np.arange(0, nNoiseDensity - 1, 1):\n",
    "print(F'Salt & pepper noise density id is {k}.'.format(i=i))\n",
    "Inoise = add_noise(Iori, noisedensity[k])                   # Add salt & pepper noise\n",
    "# Pre-processing\n",
    "se_imopen = disk(se_size)                                   # structrul element for morph open\n",
    "background = morphologyEx(Inoise, MORPH_OPEN, se_imopen)    # opening\n",
    "I_bg = Inoise - background                                  # Subtract background\n",
    "Ien = median(I_bg, footprint=disk(medianValue[0]))          # Smoothing filter\n",
    "# Edge detection w/ proposed methow\n",
    "# Rotate & detect edge\n",
    "BW = ak_rotate_edge_overlay\\\n",
    "    (Ien,numlayer,rotation_angle,numBorder,model,y_interval,penalty_value, changepoint_algo)\n",
    "print('Edge detected.')\n",
    "\n",
    "# Post-processing\n",
    "if postprocess == 1:\n",
    "    BWlast = ak_post_process\\\n",
    "        (BW,smallNoiseRemov,senoise,neib,select_biggest,nskeletonize)\n",
    "    print('Postprocessing done.')\n",
    "elif postprocess == 0:\n",
    "    BWlast = BW\n",
    "    print('Postprocessing omitted.')\n",
    "else:\n",
    "    print(\"'postprocess' should be either '0' or '1'.\")\n",
    "\n",
    "# Cancatenate layers\n",
    "if BW_final.ndim == 2:\n",
    "    #BW_final = np.stack([BW_final, BWlast],axis=0)\n",
    "    BW_final = BWlast\n",
    "elif BW_final.ndim == 3:\n",
    "    BWlast_r = BWlast.reshape(1,BWlast.shape[0],BWlast.shape[1])\n",
    "    BW_final = np.concatenate((BW_final, BWlast_r),axis=0)\n",
    "\n",
    "#%% Calculate FOM & MSE\n",
    "if evaluation == 0:\n",
    "    print(\"Pratt's FOM: Not evaluated\")\n",
    "if evaluation == 1:\n",
    "    score = ak_edge_eval(BWgt,BWlast)\n",
    "    # Save FOM & MSE as array\n",
    "    fom_array[i,k] = score['fom']\n",
    "    mse_array[i,k] = score['mse']\n",
    "    print(f\"Pratt's FOM: {fom_array[i,k]}\")\n",
    "\n",
    "#Show results\n",
    "fig, ax = plt.subplots(1,5, constrained_layout = True, figsize=(5, 1), dpi=600) # figsize: figure dimension (width, height) in inches.\n",
    "ax[0].imshow(Iori, cmap='gray')\n",
    "ax[0].set_title('Original',fontsize='small')\n",
    "ax[1].imshow(Ien, cmap='gray')\n",
    "ax[1].set_title('Pre-processed',fontsize='small')\n",
    "ax[2].imshow(BW, cmap='gray')\n",
    "ax[2].set_title('Edge',fontsize='small')\n",
    "ax[3].imshow(BWlast, cmap='gray')\n",
    "ax[3].set_title('Post-processed',fontsize='small')\n",
    "ax[4].imshow(BWgt, cmap='gray')\n",
    "ax[4].set_title('Ground truth',fontsize='small')\n",
    "for i in np.arange(0,5):\n",
    "    ax[i].set_xticks([])\n",
    "    ax[i].set_yticks([])\n",
    "\n",
    "plt.show()"
   ]
  },
  {
   "cell_type": "code",
   "execution_count": null,
   "id": "864e604c-b5d3-47e2-8e26-ce91159c68e2",
   "metadata": {},
   "outputs": [],
   "source": []
  }
 ],
 "metadata": {
  "kernelspec": {
   "display_name": "Python 3 (ipykernel)",
   "language": "python",
   "name": "python3"
  },
  "language_info": {
   "codemirror_mode": {
    "name": "ipython",
    "version": 3
   },
   "file_extension": ".py",
   "mimetype": "text/x-python",
   "name": "python",
   "nbconvert_exporter": "python",
   "pygments_lexer": "ipython3",
   "version": "3.9.7"
  }
 },
 "nbformat": 4,
 "nbformat_minor": 5
}
